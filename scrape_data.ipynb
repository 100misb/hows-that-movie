{
 "cells": [
  {
   "cell_type": "code",
   "execution_count": null,
   "metadata": {},
   "outputs": [],
   "source": [
    "import pandas as pd\n",
    "import requests\n",
    "from bs4 import BeautifulSoup\n",
    "\n",
    "from pathlib import Path\n",
    "import requests\n",
    "from pprint import pprint\n",
    "from dataclasses import dataclass\n",
    "\n",
    "import json\n",
    "import asyncio"
   ]
  },
  {
   "cell_type": "code",
   "execution_count": null,
   "metadata": {},
   "outputs": [],
   "source": [
    "IMDB_HOST_URL = \"https://www.imdb.com\"\n",
    "movies_codes = [\"tt7657566\"]\n",
    "movie_code_reviews = {}\n",
    "\n",
    "\n",
    "def get_key_from_movie_page(code: str):\n",
    "    # land over a particular movie page and get its pagiination link\n",
    "    # get the response for a particular movie\n",
    "    response = requests.get(\n",
    "        url = f\"{IMDB_HOST_URL}/title/{code}/reviews\",\n",
    "        params= {\n",
    "            \"ref_\" : \"tt_urv\"\n",
    "        }\n",
    "    )\n",
    "    response.raise_for_status()\n",
    "\n",
    "    # convert the response HTML to soup tree\n",
    "    soup = BeautifulSoup(response.content)\n",
    "\n",
    "    # get the pagination key\n",
    "    key = soup.find(\"div\", class_=\"load-more-data\").get(\"data-key\")\n",
    "    print(key)\n",
    "    return key\n",
    "\n",
    "\n",
    "def review_links(code: str, key: str):\n",
    "    # for a pagination link get all the reviews\n",
    "    # check if current page limit has not reached to 0\n",
    "    # made requests with given page key\n",
    "    response = requests.get(\n",
    "        url = f\"{IMDB_HOST_URL}/title/{code}/reviews/_ajax\",\n",
    "        params = {\n",
    "            \"ref_\" : \"undefined\",\n",
    "            \"paginationKey\" : key\n",
    "        }\n",
    "    )\n",
    "    response.raise_for_status()\n",
    "\n",
    "    soup = BeautifulSoup(response.content)\n",
    "\n",
    "    # with proper response scrape all the review text along with ratings\n",
    "    all_links_href = soup.find_all(\"a\", class_=\"title\")\n",
    "\n",
    "    # get the pagination key for the next page\n",
    "    key = soup.find(\"div\", class_=\"load-more-data\").get(\"data-key\")        \n",
    "    return [each_resp.get(\"href\") for each_resp in soup.find_all(\"a\", class_=\"title\")], key\n",
    "\n",
    "\n",
    "async def get_review_information(review_link: str):\n",
    "    response = requests.get(\n",
    "        url = f\"{IMDB_HOST_URL}{review_link}\",\n",
    "        params= {\n",
    "            \"ref_\" : \"tt_urv\"\n",
    "        }\n",
    "    )\n",
    "    response.raise_for_status()\n",
    "    soup = BeautifulSoup(response.content)\n",
    "\n",
    "    # get various attributes from the page\n",
    "    response_dict = json.loads(soup.find(\"script\" , type = \"application/ld+json\").string)\n",
    "    rating_dict = response_dict.get(\"reviewRating\")\n",
    "    review_detail = {\n",
    "        \"url\" : response.request.url,\n",
    "        \"movie\" : soup.title.string.split(\"Review of\")[-1].split(\"- IMDb\")[0].strip(),\n",
    "        \"title\" : soup.find(\"a\", class_=\"title\").string.strip(),\n",
    "        \"language\" : response_dict.get(\"inLanguage\"),\n",
    "        \"description\" : soup.find(\"div\", class_ = \"text show-more__control\").string,\n",
    "        \"rating\" : rating_dict.get(\"ratingValue\") if rating_dict else \"\",\n",
    "        \"max_rating\" : rating_dict.get(\"bestRating\") if rating_dict else \"\",\n",
    "        \"helpful_review\" :  soup.find(\"div\", class_=\"actions text-muted\").text.strip().split(\"\\n\")[0]\n",
    "\n",
    "    }\n",
    "\n",
    "    return review_detail\n",
    "\n",
    "movie_reviews = []\n",
    "review_href = []\n",
    "for code in movies_codes :\n",
    "    key = get_key_from_movie_page(code=code)\n",
    "    page_count = 1\n",
    "    while page_count >= 1 :\n",
    "        links_href, key = review_links(\n",
    "            code = code,\n",
    "            key = key\n",
    "        )\n",
    "        page_count = page_count - 1\n",
    "        \n",
    "        review_href.extend(links_href)"
   ]
  },
  {
   "cell_type": "code",
   "execution_count": null,
   "metadata": {},
   "outputs": [],
   "source": [
    "reviews = await asyncio.gather(\n",
    "    *[\n",
    "        get_review_information(href) for href in review_href\n",
    "    ]\n",
    ")\n"
   ]
  },
  {
   "cell_type": "code",
   "execution_count": null,
   "metadata": {},
   "outputs": [],
   "source": [
    "reviews[]"
   ]
  },
  {
   "cell_type": "code",
   "execution_count": null,
   "metadata": {},
   "outputs": [],
   "source": [
    "response = requests.get(\n",
    "    url = \"https://www.imdb.com/review/rw7877422/\",\n",
    "    params= {\n",
    "        \"ref_\" : \"tt_urv\"\n",
    "    }\n",
    ")\n",
    "response.raise_for_stat\n",
    "us()\n",
    "soup = BeautifulSoup(response.content)"
   ]
  },
  {
   "cell_type": "code",
   "execution_count": null,
   "metadata": {},
   "outputs": [],
   "source": []
  },
  {
   "cell_type": "code",
   "execution_count": null,
   "metadata": {},
   "outputs": [],
   "source": [
    "soup.title.string.split(\"Review of\")[-1].split(\"- IMDb\")[0].strip()"
   ]
  },
  {
   "cell_type": "code",
   "execution_count": null,
   "metadata": {},
   "outputs": [],
   "source": [
    "y = BeautifulSoup(x)"
   ]
  },
  {
   "cell_type": "code",
   "execution_count": null,
   "metadata": {},
   "outputs": [],
   "source": [
    "all = y.find_all(\"a\", class_=\"title\")"
   ]
  },
  {
   "cell_type": "code",
   "execution_count": null,
   "metadata": {},
   "outputs": [],
   "source": [
    "all[0]"
   ]
  },
  {
   "cell_type": "code",
   "execution_count": null,
   "metadata": {},
   "outputs": [],
   "source": [
    "soup.find(\"div\", class_=\"actions text-muted\").text.strip().split(\"\\n\")[0]\n"
   ]
  }
 ],
 "metadata": {
  "kernelspec": {
   "display_name": ".venv",
   "language": "python",
   "name": "python3"
  },
  "language_info": {
   "codemirror_mode": {
    "name": "ipython",
    "version": 3
   },
   "file_extension": ".py",
   "mimetype": "text/x-python",
   "name": "python",
   "nbconvert_exporter": "python",
   "pygments_lexer": "ipython3",
   "version": "3.10.6 (main, Nov 14 2022, 16:10:14) [GCC 11.3.0]"
  },
  "orig_nbformat": 4,
  "vscode": {
   "interpreter": {
    "hash": "6ca1296620f83148deccd7459e289cf101ae17a040ce84eea40f4926a0206d14"
   }
  }
 },
 "nbformat": 4,
 "nbformat_minor": 2
}
